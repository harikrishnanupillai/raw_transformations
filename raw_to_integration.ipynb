{
 "cells": [
  {
   "cell_type": "code",
   "execution_count": null,
   "metadata": {},
   "outputs": [],
   "source": [
    "\"\"\" This notebook is to test the source data and load it in to integration in partitioned parquet format\"\"\""
   ]
  },
  {
   "cell_type": "code",
   "execution_count": null,
   "metadata": {},
   "outputs": [],
   "source": [
    "\"\"\" point1: Create a source dataset, for any file\n",
    "    point2: Check for count of rows, data should be available.\n",
    "    point3: load data into the integration folder in parquet format partitioned by column ||\n",
    "\n",
    "\"\"\"\n",
    "    \n",
    "    "
   ]
  },
  {
   "cell_type": "code",
   "execution_count": null,
   "metadata": {},
   "outputs": [],
   "source": [
    "\"\"\"\n",
    "raw to integration \n",
    "\"\"\""
   ]
  },
  {
   "cell_type": "code",
   "execution_count": null,
   "metadata": {},
   "outputs": [],
   "source": [
    "pip install -r requirements.txt"
   ]
  },
  {
   "cell_type": "code",
   "execution_count": null,
   "metadata": {},
   "outputs": [],
   "source": [
    "import pandas as pd\n",
    "import datetime as dt"
   ]
  },
  {
   "cell_type": "code",
   "execution_count": null,
   "metadata": {},
   "outputs": [],
   "source": [
    "\n",
    "#reading csv file using pandas -- employment_rates_by_graduate_type_200723.csv\n",
    "try:\n",
    "    raw_df = pd.read_csv(\"RAW/employment_rates_by_graduate_type_200723.csv\")\n",
    "except:\n",
    "    print(\"CSV file is not available\")\n",
    "    raise\n",
    "# print(raw_df.head())"
   ]
  },
  {
   "cell_type": "code",
   "execution_count": null,
   "metadata": {},
   "outputs": [],
   "source": [
    "#--- Source Sanity checks\n",
    "\n",
    "if len(raw_df)>0:\n",
    "    print(f\"{len(raw_df)} data extracted from source\")\n",
    "else:\n",
    "    print(\"Source File is empty\")\n",
    "    raise"
   ]
  },
  {
   "cell_type": "code",
   "execution_count": null,
   "metadata": {},
   "outputs": [],
   "source": [
    "raw_df.to_parquet(\"Integration/employment_rates_by_graduate_type/\", partition_cols=['time_period'])"
   ]
  },
  {
   "cell_type": "code",
   "execution_count": null,
   "metadata": {},
   "outputs": [],
   "source": [
    "#----------------------------------------------#"
   ]
  },
  {
   "cell_type": "code",
   "execution_count": null,
   "metadata": {},
   "outputs": [],
   "source": [
    "\n",
    "#reading csv file using pandas -- yearly_salaries_by_gender2_200723.csv\n",
    "try:\n",
    "    raw_df_2 = pd.read_csv(\"RAW/yearly_salaries_by_gender2_200723.csv\")\n",
    "except:\n",
    "    print(\"CSV file is not available\")\n",
    "    raise\n",
    "# print(raw_df.head())"
   ]
  },
  {
   "cell_type": "code",
   "execution_count": null,
   "metadata": {},
   "outputs": [],
   "source": [
    "#--- Source Sanity checks\n",
    "\n",
    "if len(raw_df_2)>0:\n",
    "    print(f\"{len(raw_df_2)} data extracted from source\")\n",
    "else:\n",
    "    print(\"Source File is empty\")\n",
    "    raise"
   ]
  },
  {
   "cell_type": "code",
   "execution_count": null,
   "metadata": {},
   "outputs": [],
   "source": [
    "raw_df_2.to_parquet(\"Integration/yearly_salaries_by_gender/\", partition_cols=['time_period'])"
   ]
  }
 ],
 "metadata": {
  "kernelspec": {
   "display_name": "Python 3 (ipykernel)",
   "language": "python",
   "name": "python3"
  },
  "language_info": {
   "codemirror_mode": {
    "name": "ipython",
    "version": 3
   },
   "file_extension": ".py",
   "mimetype": "text/x-python",
   "name": "python",
   "nbconvert_exporter": "python",
   "pygments_lexer": "ipython3",
   "version": "3.10.10"
  }
 },
 "nbformat": 4,
 "nbformat_minor": 4
}
