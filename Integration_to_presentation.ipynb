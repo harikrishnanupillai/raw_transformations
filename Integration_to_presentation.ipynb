{
 "cells": [
  {
   "cell_type": "code",
   "execution_count": null,
   "metadata": {},
   "outputs": [],
   "source": [
    "\"\"\"\n",
    "integration to presentation\n",
    "\n",
    "Apply transformation logic and prepare the data for the presentation\n",
    "\n",
    "input: parquet file\n",
    "output: transformed parquet file\n",
    "\n",
    "\"\"\""
   ]
  },
  {
   "cell_type": "code",
   "execution_count": null,
   "metadata": {},
   "outputs": [],
   "source": [
    "\"\"\"\n",
    "    Apply buisness logic and filter on current data\n",
    "    try SCD Type2 if its possible\n",
    "\"\"\""
   ]
  },
  {
   "cell_type": "code",
   "execution_count": 1,
   "metadata": {},
   "outputs": [],
   "source": [
    "import pandas as pd"
   ]
  },
  {
   "cell_type": "code",
   "execution_count": 4,
   "metadata": {},
   "outputs": [],
   "source": [
    "#employment_rates_by_graduate_type_200723.csv\n",
    "try:\n",
    "    graduate_type_df = pd.read_parquet(\"Integration/employment_rates_by_graduate_type/\")\n",
    "except:\n",
    "    print(\"Data file is not available\")\n",
    "    raise\n"
   ]
  },
  {
   "cell_type": "code",
   "execution_count": null,
   "metadata": {},
   "outputs": [],
   "source": [
    "#---------------new csv data--------------#"
   ]
  },
  {
   "cell_type": "code",
   "execution_count": 5,
   "metadata": {},
   "outputs": [],
   "source": [
    "#graduate_breakdowns_salaries4_2023.csv\n",
    "try:\n",
    "    salaries_data_df = pd.read_parquet(\"Integration/yearly_salaries_by_gender/\")\n",
    "except:\n",
    "    print(\"Data file is not available\")\n",
    "    raise"
   ]
  },
  {
   "cell_type": "code",
   "execution_count": 6,
   "metadata": {},
   "outputs": [],
   "source": [
    "# Data Quality checks\n",
    "# #--- Not null check\n",
    "primary_key_column = graduate_type_df[\"country_name\"]\n",
    "if primary_key_column.isnull().any():\n",
    "    raise ValueEroor(\"Null values present in column , please check the data once again\")\n",
    "    "
   ]
  },
  {
   "cell_type": "code",
   "execution_count": null,
   "metadata": {},
   "outputs": [],
   "source": [
    "#duplicate check\n",
    "primary_key_column = graduate_type_df[\"country_name\"]\n",
    "if primary_key_column.duplicated().any():\n",
    "        raise ValueError(\"Primary key column contains duplicate values\")"
   ]
  },
  {
   "cell_type": "code",
   "execution_count": 7,
   "metadata": {},
   "outputs": [],
   "source": [
    "# average employment rate group by age group and graduate type\n",
    "#employment_rates_by_graduate_type_200723.csv\n",
    "transform_df = graduate_type_df[[\"age_group\", \"graduate_type\", \"employment_rate\"]].groupby([\"age_group\", \"graduate_type\"]).mean()\n",
    "\n",
    "transform_df.to_parquet(\"presentation/employment_rates_by_graduate_type1/\", partition_cols=['graduate_type'])"
   ]
  },
  {
   "cell_type": "code",
   "execution_count": null,
   "metadata": {},
   "outputs": [],
   "source": [
    "# average employment rate group and unemployment rate by age group and year\n",
    "#employment_rates_by_graduate_type_200723.csv\n",
    "transform_df = graduate_type_df[[\"age_group\", \"graduate_type\", \"employment_rate\", \"unemployment_rate\"]].groupby([\"age_group\", \"graduate_type\"]).mean()\n",
    "\n",
    "transform_df.to_parquet(\"presentation/employment_rates_by_graduate_type2/\", partition_cols=['age_group'])"
   ]
  },
  {
   "cell_type": "code",
   "execution_count": null,
   "metadata": {},
   "outputs": [],
   "source": [
    "#---------------new csv data--------------#"
   ]
  },
  {
   "cell_type": "code",
   "execution_count": null,
   "metadata": {},
   "outputs": [],
   "source": [
    "# total salary group by age group and time_period\n",
    "#graduate_breakdowns_salaries4_2023.csv.csv\n",
    "\n",
    "salary_transform_df = salaries_data_df[[\"time_period\", \"age_group\", \"median\"]].groupby([\"time_period\", \"age_group\"]).sum()\n",
    "salary_transform_df= salary_transform_df.rename(columns={'median': 'toal_salary'})\n",
    "salary_transform_df.to_parquet(\"presentation/yearly_salaries_by_gender/\", partition_cols=['age_group'])"
   ]
  },
  {
   "cell_type": "code",
   "execution_count": null,
   "metadata": {},
   "outputs": [],
   "source": [
    "# total salary group by age group and time_period\n",
    "#graduate_breakdowns_salaries4_2023.csv.csv\n",
    "\n",
    "salary_transform_df = salaries_data_df[[\"time_period\", \"age_group\", \"gender\"]].groupby([\"time_period\", \"age_group\"]).count()\n",
    "salary_transform_df.rename(columns={'gender': 'gender_count'}, inplace=True)\n",
    "salary_transform_df.to_parquet(\"presentation/yearly_salaries_by_gender1/\", partition_cols=['age_group'])"
   ]
  }
 ],
 "metadata": {
  "kernelspec": {
   "display_name": "Python 3 (ipykernel)",
   "language": "python",
   "name": "python3"
  },
  "language_info": {
   "codemirror_mode": {
    "name": "ipython",
    "version": 3
   },
   "file_extension": ".py",
   "mimetype": "text/x-python",
   "name": "python",
   "nbconvert_exporter": "python",
   "pygments_lexer": "ipython3",
   "version": "3.10.4"
  }
 },
 "nbformat": 4,
 "nbformat_minor": 4
}
